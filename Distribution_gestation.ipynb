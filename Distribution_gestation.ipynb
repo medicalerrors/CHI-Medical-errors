{
 "cells": [
  {
   "cell_type": "code",
   "execution_count": null,
   "metadata": {},
   "outputs": [],
   "source": [
    "import pandas as pd\n",
    "import numpy as np\n",
    "import matplotlib.pyplot as plt\n",
    "import seaborn as sns\n",
    "import itertools\n",
    "import statsmodels.api as sm\n",
    "import plotly.graph_objects as go\n",
    "from tabulate import tabulate\n",
    "\n",
    "%matplotlib inline\n",
    "\n",
    "#Reading the file\n",
    "\n",
    "data = pd.read_csv(r'C:/Users/Dell/Desktop/Apollo563_2.csv')\n",
    "\n",
    "print(tabulate([['25 - 30.9',  len(data[(data['Gestation']>=25) & (data['Gestation']<=30.9)])], ['31 - 32.9', len(data[(data['Gestation']>=31) & (data['Gestation']<=32.9)])],['33 - 33.9', len(data[(data['Gestation']>=33) & (data['Gestation']<=33.9)])],['34 - 34.9',  len(data[(data['Gestation']>=34) & (data['Gestation']<=34.9)])],['35 - 35.9',  len(data[(data['Gestation']>=35) & (data['Gestation']<=35.9)])],['36 - 37',  len(data[(data['Gestation']>=36) & (data['Gestation']<=37)])],['37 - 37.9',  len(data[(data['Gestation']>=37) & (data['Gestation']<=37.9)])],['38 - 39',  len(data[(data['Gestation']>=38) & (data['Gestation']<=39)])],['Greater than 39',  len(data[(data['Gestation']>=39)])]], headers=['Gestation', 'Count'],tablefmt=\"fancy_grid\"))\n",
    "    "
   ]
  },
  {
   "cell_type": "code",
   "execution_count": null,
   "metadata": {},
   "outputs": [],
   "source": []
  },
  {
   "cell_type": "code",
   "execution_count": null,
   "metadata": {},
   "outputs": [],
   "source": []
  },
  {
   "cell_type": "code",
   "execution_count": null,
   "metadata": {},
   "outputs": [],
   "source": []
  },
  {
   "cell_type": "code",
   "execution_count": null,
   "metadata": {},
   "outputs": [],
   "source": [
    "    "
   ]
  },
  {
   "cell_type": "code",
   "execution_count": null,
   "metadata": {},
   "outputs": [],
   "source": []
  },
  {
   "cell_type": "code",
   "execution_count": null,
   "metadata": {},
   "outputs": [],
   "source": []
  }
 ],
 "metadata": {
  "kernelspec": {
   "display_name": "Python 3",
   "language": "python",
   "name": "python3"
  },
  "language_info": {
   "codemirror_mode": {
    "name": "ipython",
    "version": 3
   },
   "file_extension": ".py",
   "mimetype": "text/x-python",
   "name": "python",
   "nbconvert_exporter": "python",
   "pygments_lexer": "ipython3",
   "version": "3.7.3"
  }
 },
 "nbformat": 4,
 "nbformat_minor": 2
}
