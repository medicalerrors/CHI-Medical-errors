{
 "cells": [
  {
   "cell_type": "code",
   "execution_count": 28,
   "metadata": {},
   "outputs": [
    {
     "name": "stderr",
     "output_type": "stream",
     "text": [
      "C:\\Users\\Dell\\Anaconda3\\lib\\site-packages\\ipykernel_launcher.py:20: SettingWithCopyWarning:\n",
      "\n",
      "\n",
      "A value is trying to be set on a copy of a slice from a DataFrame.\n",
      "Try using .loc[row_indexer,col_indexer] = value instead\n",
      "\n",
      "See the caveats in the documentation: http://pandas.pydata.org/pandas-docs/stable/indexing.html#indexing-view-versus-copy\n",
      "\n",
      "C:\\Users\\Dell\\Anaconda3\\lib\\site-packages\\pandas\\core\\frame.py:3940: SettingWithCopyWarning:\n",
      "\n",
      "\n",
      "A value is trying to be set on a copy of a slice from a DataFrame\n",
      "\n",
      "See the caveats in the documentation: http://pandas.pydata.org/pandas-docs/stable/indexing.html#indexing-view-versus-copy\n",
      "\n"
     ]
    }
   ],
   "source": [
    "import pandas as pd\n",
    "import numpy as np\n",
    "import matplotlib.pyplot as plt\n",
    "import seaborn as sns\n",
    "import itertools\n",
    "import statsmodels.api as sm\n",
    "import plotly.graph_objects as go\n",
    "from sklearn.model_selection import train_test_split\n",
    "\n",
    "%matplotlib inline\n",
    "\n",
    "#Reading the file\n",
    "\n",
    "data = pd.read_csv(r'C:/Users/Dell/Desktop/Apollo563_2.csv')\n",
    "\n",
    "#Creating Dummies\n",
    "\n",
    "def get_dum(x):\n",
    "    for elem in qs[x].unique():\n",
    "        qs[str(elem)] = qs[x] == elem\n",
    "        \n",
    "qs = data[['uhid','Gender','MODE_OF_DELIVERY','inout_patient_status','Gestation','LOS','NEOFAX_ERRORS','MED_ADMIN_ERRORS','ESPGHAN','NUTR_ADMIN','RDS',\n",
    "       'JAUNDICE', 'SEPSIS','baby_type','ANTENATA_STEROIDS']]\n",
    "\n",
    "#Converting to Binary\n",
    "\n",
    "def conv(x):\n",
    "    if x == True:\n",
    "        return 1\n",
    "    else:\n",
    "        return 0\n",
    "    \n",
    "get_dum('inout_patient_status')\n",
    "qs.drop('inout_patient_status',axis=1,inplace=True)\n",
    "get_dum('NEOFAX_ERRORS')\n",
    "qs = qs.rename(columns={\"No_err\": \"NF No_err\", \"ERROR\": \"NF ERROR\"})\n",
    "qs.drop('NEOFAX_ERRORS',axis=1,inplace=True)\n",
    "get_dum('MED_ADMIN_ERRORS')\n",
    "qs = qs.rename(columns={\"No_err\": \"MED ADMIN No_err\", \"ERROR\": \"MED ADMIN ERROR\", \"Not eligible\" : \"MED ADMIN Not eligible\"})\n",
    "qs.drop('MED_ADMIN_ERRORS',axis=1,inplace=True)\n",
    "get_dum('ESPGHAN')\n",
    "qs = qs.rename(columns={\"No_err\": \"ESPGHAN No_err\", \"ERROR\": \"ESPGHAN ERROR\",\"Not eligible\":\"ESPGHAN NE\"})\n",
    "get_dum('NUTR_ADMIN')\n",
    "qs = qs.rename(columns={\"No_err\": \"NUTRI ADMIN No_err\", \"ERROR\": \"NUTRI ADMIN ERROR\",\"Not eligible\":\"NUTRI ADMIN NE\"})\n",
    "get_dum('Gender')\n",
    "get_dum('RDS')\n",
    "qs = qs.rename(columns={\"False\": \"RDS False\", \"True\": \"RDS True\"})\n",
    "get_dum('JAUNDICE')\n",
    "qs = qs.rename(columns={\"False\": \"Jaundice False\", \"True\": \"Jaundice True\"})\n",
    "get_dum('SEPSIS')\n",
    "qs = qs.rename(columns={\"False\": \"Sepsis False\", \"True\": \"Sepsis True\"})\n",
    "get_dum('MODE_OF_DELIVERY')\n",
    "get_dum('baby_type')\n",
    "get_dum('ANTENATA_STEROIDS')\n",
    "qs = qs.rename(columns={\"false\": \"Antenatal ST False\", \"true\": \"Antenatal ST True\", \"unknown\":\"Antenatal ST Unknown\"})\n",
    "qs.drop('MODE_OF_DELIVERY',axis=1,inplace=True)\n",
    "qs.drop('baby_type',axis=1,inplace=True)\n",
    "#qs.drop('nan',axis=1,inplace=True)\n",
    "qs.drop('RDS',axis=1,inplace=True)\n",
    "qs.drop('JAUNDICE',axis=1,inplace=True)\n",
    "qs.drop('SEPSIS',axis=1,inplace=True)\n",
    "qs.drop('NUTR_ADMIN',axis=1,inplace=True)\n",
    "qs.drop('ESPGHAN',axis=1,inplace=True)\n",
    "qs.drop('Gender',axis=1,inplace=True)\n",
    "qs.drop('ANTENATA_STEROIDS',axis=1,inplace=True)\n",
    "\n",
    "l = ['In Born', 'Out Born', 'NF No_err', 'NF ERROR',\n",
    "        'MED ADMIN No_err', 'MED ADMIN ERROR',\n",
    "       'ESPGHAN ERROR', 'ESPGHAN No_err', 'NUTRI ADMIN ERROR',\n",
    "       'NUTRI ADMIN No_err','NUTRI ADMIN No_err' ,'Male', 'Female', 'RDS False', 'RDS True',\n",
    "       'Jaundice False', 'Jaundice True', 'Sepsis False', 'Sepsis True',\n",
    "       'LSCS', 'NVD', 'Single', 'Multiple', 'False',\n",
    "       'True']\n",
    "\n",
    "for i in l:\n",
    "    qs[i] = qs[i].apply(conv)\n",
    "    \n",
    "#Model is defined\n",
    "    \n",
    "def model_OLS(data):\n",
    "    y = data['LOS']\n",
    "    X = data.drop('LOS',axis=1)\n",
    "    X.drop('uhid',axis=1,inplace=True)\n",
    "    NegBi_model = sm.OLS(y,X)\n",
    "    NegBi_results = NegBi_model.fit()\n",
    "    results_as_html = NegBi_results.summary().tables[1].as_html()\n",
    "    dt = pd.read_html(results_as_html, header=0, index_col=0)[0]\n",
    "\n",
    "    return (NegBi_results.summary())\n"
   ]
  },
  {
   "cell_type": "code",
   "execution_count": 12,
   "metadata": {},
   "outputs": [],
   "source": [
    "def model_OLS_log(data):\n",
    "    y = np.log(data['LOS'])\n",
    "    X = data.drop('LOS',axis=1)\n",
    "    X.drop('uhid',axis=1,inplace=True)\n",
    "    NegBi_model = sm.OLS(y,X)\n",
    "    NegBi_results = NegBi_model.fit()\n",
    "    results_as_html = NegBi_results.summary().tables[1].as_html()\n",
    "    dt = pd.read_html(results_as_html, header=0, index_col=0)[0]\n",
    "\n",
    "    return (NegBi_results.summary())"
   ]
  },
  {
   "cell_type": "code",
   "execution_count": 17,
   "metadata": {},
   "outputs": [],
   "source": [
    "def model_OLS_sqrt(data):\n",
    "    y = np.sqrt(data['LOS'])\n",
    "    X = data.drop('LOS',axis=1)\n",
    "    X.drop('uhid',axis=1,inplace=True)\n",
    "    NegBi_model = sm.OLS(y,X)\n",
    "    NegBi_results = NegBi_model.fit()\n",
    "    results_as_html = NegBi_results.summary().tables[1].as_html()\n",
    "    dt = pd.read_html(results_as_html, header=0, index_col=0)[0]\n",
    "\n",
    "    return (NegBi_results.summary())"
   ]
  },
  {
   "cell_type": "code",
   "execution_count": 20,
   "metadata": {},
   "outputs": [],
   "source": [
    "def model_OLS_box(data):\n",
    "    y = np.power((data['LOS']),-0.2)\n",
    "    X = data.drop('LOS',axis=1)\n",
    "    X.drop('uhid',axis=1,inplace=True)\n",
    "    NegBi_model = sm.OLS(y,X)\n",
    "    NegBi_results = NegBi_model.fit()\n",
    "    results_as_html = NegBi_results.summary().tables[1].as_html()\n",
    "    dt = pd.read_html(results_as_html, header=0, index_col=0)[0]\n",
    "\n",
    "    return (NegBi_results.summary())"
   ]
  },
  {
   "cell_type": "code",
   "execution_count": 24,
   "metadata": {},
   "outputs": [],
   "source": [
    "def model_GLM_NegBI(data):\n",
    "    y = data['LOS']\n",
    "    X = data.drop('LOS',axis=1)\n",
    "    X.drop('uhid',axis=1,inplace=True)\n",
    "    NegBi_model = sm.GLM(y,X, family=sm.families.NegativeBinomial())\n",
    "    NegBi_results = NegBi_model.fit()\n",
    "    results_as_html = NegBi_results.summary().tables[1].as_html()\n",
    "    dt = pd.read_html(results_as_html, header=0, index_col=0)[0]\n",
    "\n",
    "    return (NegBi_results.summary())"
   ]
  },
  {
   "cell_type": "code",
   "execution_count": 32,
   "metadata": {},
   "outputs": [],
   "source": [
    "def model_gamma(data):\n",
    "    y = data['LOS']\n",
    "    X = data.drop('LOS',axis=1)\n",
    "    X.drop('uhid',axis=1,inplace=True)\n",
    "    NegBi_model = sm.GLM(y,X, family=sm.families.NegativeBinomial())\n",
    "    NegBi_results = NegBi_model.fit()\n",
    "    results_as_html = NegBi_results.summary().tables[1].as_html()\n",
    "    dt = pd.read_html(results_as_html, header=0, index_col=0)[0]\n",
    "\n",
    "    return (NegBi_results.summary())"
   ]
  },
  {
   "cell_type": "code",
   "execution_count": 33,
   "metadata": {},
   "outputs": [],
   "source": [
    "def model_poisson(data):\n",
    "    y = data['LOS']\n",
    "    X = data.drop('LOS',axis=1)\n",
    "    X.drop('uhid',axis=1,inplace=True)\n",
    "    NegBi_model = sm.GLM(y,X, family=sm.families.Poisson(link=sm.families.links.log))\n",
    "    NegBi_results = NegBi_model.fit()\n",
    "    results_as_html = NegBi_results.summary().tables[1].as_html()\n",
    "    dt = pd.read_html(results_as_html, header=0, index_col=0)[0]\n",
    "\n",
    "    return (NegBi_results.summary())"
   ]
  },
  {
   "cell_type": "code",
   "execution_count": 36,
   "metadata": {},
   "outputs": [
    {
     "ename": "ValueError",
     "evalue": "Pandas data cast to numpy dtype of object. Check input data with np.asarray(data).",
     "output_type": "error",
     "traceback": [
      "\u001b[1;31m---------------------------------------------------------------------------\u001b[0m",
      "\u001b[1;31mValueError\u001b[0m                                Traceback (most recent call last)",
      "\u001b[1;32m<ipython-input-36-fb1ea5a642b8>\u001b[0m in \u001b[0;36m<module>\u001b[1;34m\u001b[0m\n\u001b[1;32m----> 1\u001b[1;33m \u001b[0mmodel_poission\u001b[0m\u001b[1;33m(\u001b[0m\u001b[0mqs\u001b[0m\u001b[1;33m)\u001b[0m\u001b[1;33m\u001b[0m\u001b[1;33m\u001b[0m\u001b[0m\n\u001b[0m",
      "\u001b[1;32m<ipython-input-29-d2a774b10de0>\u001b[0m in \u001b[0;36mmodel_poission\u001b[1;34m(data)\u001b[0m\n\u001b[0;32m     15\u001b[0m \u001b[1;33m\u001b[0m\u001b[0m\n\u001b[0;32m     16\u001b[0m \u001b[1;33m\u001b[0m\u001b[0m\n\u001b[1;32m---> 17\u001b[1;33m     \u001b[0mNegBi_model\u001b[0m \u001b[1;33m=\u001b[0m \u001b[0msm\u001b[0m\u001b[1;33m.\u001b[0m\u001b[0mGLM\u001b[0m\u001b[1;33m(\u001b[0m\u001b[0my_train\u001b[0m\u001b[1;33m,\u001b[0m\u001b[0mX_train\u001b[0m\u001b[1;33m,\u001b[0m\u001b[0mfamily\u001b[0m\u001b[1;33m=\u001b[0m\u001b[0msm\u001b[0m\u001b[1;33m.\u001b[0m\u001b[0mfamilies\u001b[0m\u001b[1;33m.\u001b[0m\u001b[0mPoisson\u001b[0m\u001b[1;33m(\u001b[0m\u001b[0mlink\u001b[0m\u001b[1;33m=\u001b[0m\u001b[0msm\u001b[0m\u001b[1;33m.\u001b[0m\u001b[0mfamilies\u001b[0m\u001b[1;33m.\u001b[0m\u001b[0mlinks\u001b[0m\u001b[1;33m.\u001b[0m\u001b[0mlog\u001b[0m\u001b[1;33m)\u001b[0m\u001b[1;33m)\u001b[0m\u001b[1;33m\u001b[0m\u001b[1;33m\u001b[0m\u001b[0m\n\u001b[0m\u001b[0;32m     18\u001b[0m     \u001b[0mNegBi_results\u001b[0m \u001b[1;33m=\u001b[0m \u001b[0mNegBi_model\u001b[0m\u001b[1;33m.\u001b[0m\u001b[0mfit\u001b[0m\u001b[1;33m(\u001b[0m\u001b[1;33m)\u001b[0m\u001b[1;33m\u001b[0m\u001b[1;33m\u001b[0m\u001b[0m\n\u001b[0;32m     19\u001b[0m     \u001b[0mresults_as_html\u001b[0m \u001b[1;33m=\u001b[0m \u001b[0mNegBi_results\u001b[0m\u001b[1;33m.\u001b[0m\u001b[0msummary\u001b[0m\u001b[1;33m(\u001b[0m\u001b[1;33m)\u001b[0m\u001b[1;33m.\u001b[0m\u001b[0mtables\u001b[0m\u001b[1;33m[\u001b[0m\u001b[1;36m1\u001b[0m\u001b[1;33m]\u001b[0m\u001b[1;33m.\u001b[0m\u001b[0mas_html\u001b[0m\u001b[1;33m(\u001b[0m\u001b[1;33m)\u001b[0m\u001b[1;33m\u001b[0m\u001b[1;33m\u001b[0m\u001b[0m\n",
      "\u001b[1;32m~\\Anaconda3\\lib\\site-packages\\statsmodels\\genmod\\generalized_linear_model.py\u001b[0m in \u001b[0;36m__init__\u001b[1;34m(self, endog, exog, family, offset, exposure, freq_weights, var_weights, missing, **kwargs)\u001b[0m\n\u001b[0;32m    318\u001b[0m                                   \u001b[0moffset\u001b[0m\u001b[1;33m=\u001b[0m\u001b[0moffset\u001b[0m\u001b[1;33m,\u001b[0m \u001b[0mexposure\u001b[0m\u001b[1;33m=\u001b[0m\u001b[0mexposure\u001b[0m\u001b[1;33m,\u001b[0m\u001b[1;33m\u001b[0m\u001b[1;33m\u001b[0m\u001b[0m\n\u001b[0;32m    319\u001b[0m                                   \u001b[0mfreq_weights\u001b[0m\u001b[1;33m=\u001b[0m\u001b[0mfreq_weights\u001b[0m\u001b[1;33m,\u001b[0m\u001b[1;33m\u001b[0m\u001b[1;33m\u001b[0m\u001b[0m\n\u001b[1;32m--> 320\u001b[1;33m                                   var_weights=var_weights, **kwargs)\n\u001b[0m\u001b[0;32m    321\u001b[0m         self._check_inputs(family, self.offset, self.exposure, self.endog,\n\u001b[0;32m    322\u001b[0m                            self.freq_weights, self.var_weights)\n",
      "\u001b[1;32m~\\Anaconda3\\lib\\site-packages\\statsmodels\\base\\model.py\u001b[0m in \u001b[0;36m__init__\u001b[1;34m(self, endog, exog, **kwargs)\u001b[0m\n\u001b[0;32m    210\u001b[0m \u001b[1;33m\u001b[0m\u001b[0m\n\u001b[0;32m    211\u001b[0m     \u001b[1;32mdef\u001b[0m \u001b[0m__init__\u001b[0m\u001b[1;33m(\u001b[0m\u001b[0mself\u001b[0m\u001b[1;33m,\u001b[0m \u001b[0mendog\u001b[0m\u001b[1;33m,\u001b[0m \u001b[0mexog\u001b[0m\u001b[1;33m=\u001b[0m\u001b[1;32mNone\u001b[0m\u001b[1;33m,\u001b[0m \u001b[1;33m**\u001b[0m\u001b[0mkwargs\u001b[0m\u001b[1;33m)\u001b[0m\u001b[1;33m:\u001b[0m\u001b[1;33m\u001b[0m\u001b[1;33m\u001b[0m\u001b[0m\n\u001b[1;32m--> 212\u001b[1;33m         \u001b[0msuper\u001b[0m\u001b[1;33m(\u001b[0m\u001b[0mLikelihoodModel\u001b[0m\u001b[1;33m,\u001b[0m \u001b[0mself\u001b[0m\u001b[1;33m)\u001b[0m\u001b[1;33m.\u001b[0m\u001b[0m__init__\u001b[0m\u001b[1;33m(\u001b[0m\u001b[0mendog\u001b[0m\u001b[1;33m,\u001b[0m \u001b[0mexog\u001b[0m\u001b[1;33m,\u001b[0m \u001b[1;33m**\u001b[0m\u001b[0mkwargs\u001b[0m\u001b[1;33m)\u001b[0m\u001b[1;33m\u001b[0m\u001b[1;33m\u001b[0m\u001b[0m\n\u001b[0m\u001b[0;32m    213\u001b[0m         \u001b[0mself\u001b[0m\u001b[1;33m.\u001b[0m\u001b[0minitialize\u001b[0m\u001b[1;33m(\u001b[0m\u001b[1;33m)\u001b[0m\u001b[1;33m\u001b[0m\u001b[1;33m\u001b[0m\u001b[0m\n\u001b[0;32m    214\u001b[0m \u001b[1;33m\u001b[0m\u001b[0m\n",
      "\u001b[1;32m~\\Anaconda3\\lib\\site-packages\\statsmodels\\base\\model.py\u001b[0m in \u001b[0;36m__init__\u001b[1;34m(self, endog, exog, **kwargs)\u001b[0m\n\u001b[0;32m     62\u001b[0m         \u001b[0mhasconst\u001b[0m \u001b[1;33m=\u001b[0m \u001b[0mkwargs\u001b[0m\u001b[1;33m.\u001b[0m\u001b[0mpop\u001b[0m\u001b[1;33m(\u001b[0m\u001b[1;34m'hasconst'\u001b[0m\u001b[1;33m,\u001b[0m \u001b[1;32mNone\u001b[0m\u001b[1;33m)\u001b[0m\u001b[1;33m\u001b[0m\u001b[1;33m\u001b[0m\u001b[0m\n\u001b[0;32m     63\u001b[0m         self.data = self._handle_data(endog, exog, missing, hasconst,\n\u001b[1;32m---> 64\u001b[1;33m                                       **kwargs)\n\u001b[0m\u001b[0;32m     65\u001b[0m         \u001b[0mself\u001b[0m\u001b[1;33m.\u001b[0m\u001b[0mk_constant\u001b[0m \u001b[1;33m=\u001b[0m \u001b[0mself\u001b[0m\u001b[1;33m.\u001b[0m\u001b[0mdata\u001b[0m\u001b[1;33m.\u001b[0m\u001b[0mk_constant\u001b[0m\u001b[1;33m\u001b[0m\u001b[1;33m\u001b[0m\u001b[0m\n\u001b[0;32m     66\u001b[0m         \u001b[0mself\u001b[0m\u001b[1;33m.\u001b[0m\u001b[0mexog\u001b[0m \u001b[1;33m=\u001b[0m \u001b[0mself\u001b[0m\u001b[1;33m.\u001b[0m\u001b[0mdata\u001b[0m\u001b[1;33m.\u001b[0m\u001b[0mexog\u001b[0m\u001b[1;33m\u001b[0m\u001b[1;33m\u001b[0m\u001b[0m\n",
      "\u001b[1;32m~\\Anaconda3\\lib\\site-packages\\statsmodels\\base\\model.py\u001b[0m in \u001b[0;36m_handle_data\u001b[1;34m(self, endog, exog, missing, hasconst, **kwargs)\u001b[0m\n\u001b[0;32m     85\u001b[0m \u001b[1;33m\u001b[0m\u001b[0m\n\u001b[0;32m     86\u001b[0m     \u001b[1;32mdef\u001b[0m \u001b[0m_handle_data\u001b[0m\u001b[1;33m(\u001b[0m\u001b[0mself\u001b[0m\u001b[1;33m,\u001b[0m \u001b[0mendog\u001b[0m\u001b[1;33m,\u001b[0m \u001b[0mexog\u001b[0m\u001b[1;33m,\u001b[0m \u001b[0mmissing\u001b[0m\u001b[1;33m,\u001b[0m \u001b[0mhasconst\u001b[0m\u001b[1;33m,\u001b[0m \u001b[1;33m**\u001b[0m\u001b[0mkwargs\u001b[0m\u001b[1;33m)\u001b[0m\u001b[1;33m:\u001b[0m\u001b[1;33m\u001b[0m\u001b[1;33m\u001b[0m\u001b[0m\n\u001b[1;32m---> 87\u001b[1;33m         \u001b[0mdata\u001b[0m \u001b[1;33m=\u001b[0m \u001b[0mhandle_data\u001b[0m\u001b[1;33m(\u001b[0m\u001b[0mendog\u001b[0m\u001b[1;33m,\u001b[0m \u001b[0mexog\u001b[0m\u001b[1;33m,\u001b[0m \u001b[0mmissing\u001b[0m\u001b[1;33m,\u001b[0m \u001b[0mhasconst\u001b[0m\u001b[1;33m,\u001b[0m \u001b[1;33m**\u001b[0m\u001b[0mkwargs\u001b[0m\u001b[1;33m)\u001b[0m\u001b[1;33m\u001b[0m\u001b[1;33m\u001b[0m\u001b[0m\n\u001b[0m\u001b[0;32m     88\u001b[0m         \u001b[1;31m# kwargs arrays could have changed, easier to just attach here\u001b[0m\u001b[1;33m\u001b[0m\u001b[1;33m\u001b[0m\u001b[1;33m\u001b[0m\u001b[0m\n\u001b[0;32m     89\u001b[0m         \u001b[1;32mfor\u001b[0m \u001b[0mkey\u001b[0m \u001b[1;32min\u001b[0m \u001b[0mkwargs\u001b[0m\u001b[1;33m:\u001b[0m\u001b[1;33m\u001b[0m\u001b[1;33m\u001b[0m\u001b[0m\n",
      "\u001b[1;32m~\\Anaconda3\\lib\\site-packages\\statsmodels\\base\\data.py\u001b[0m in \u001b[0;36mhandle_data\u001b[1;34m(endog, exog, missing, hasconst, **kwargs)\u001b[0m\n\u001b[0;32m    631\u001b[0m     \u001b[0mklass\u001b[0m \u001b[1;33m=\u001b[0m \u001b[0mhandle_data_class_factory\u001b[0m\u001b[1;33m(\u001b[0m\u001b[0mendog\u001b[0m\u001b[1;33m,\u001b[0m \u001b[0mexog\u001b[0m\u001b[1;33m)\u001b[0m\u001b[1;33m\u001b[0m\u001b[1;33m\u001b[0m\u001b[0m\n\u001b[0;32m    632\u001b[0m     return klass(endog, exog=exog, missing=missing, hasconst=hasconst,\n\u001b[1;32m--> 633\u001b[1;33m                  **kwargs)\n\u001b[0m",
      "\u001b[1;32m~\\Anaconda3\\lib\\site-packages\\statsmodels\\base\\data.py\u001b[0m in \u001b[0;36m__init__\u001b[1;34m(self, endog, exog, missing, hasconst, **kwargs)\u001b[0m\n\u001b[0;32m     74\u001b[0m             \u001b[0mself\u001b[0m\u001b[1;33m.\u001b[0m\u001b[0morig_endog\u001b[0m \u001b[1;33m=\u001b[0m \u001b[0mendog\u001b[0m\u001b[1;33m\u001b[0m\u001b[1;33m\u001b[0m\u001b[0m\n\u001b[0;32m     75\u001b[0m             \u001b[0mself\u001b[0m\u001b[1;33m.\u001b[0m\u001b[0morig_exog\u001b[0m \u001b[1;33m=\u001b[0m \u001b[0mexog\u001b[0m\u001b[1;33m\u001b[0m\u001b[1;33m\u001b[0m\u001b[0m\n\u001b[1;32m---> 76\u001b[1;33m             \u001b[0mself\u001b[0m\u001b[1;33m.\u001b[0m\u001b[0mendog\u001b[0m\u001b[1;33m,\u001b[0m \u001b[0mself\u001b[0m\u001b[1;33m.\u001b[0m\u001b[0mexog\u001b[0m \u001b[1;33m=\u001b[0m \u001b[0mself\u001b[0m\u001b[1;33m.\u001b[0m\u001b[0m_convert_endog_exog\u001b[0m\u001b[1;33m(\u001b[0m\u001b[0mendog\u001b[0m\u001b[1;33m,\u001b[0m \u001b[0mexog\u001b[0m\u001b[1;33m)\u001b[0m\u001b[1;33m\u001b[0m\u001b[1;33m\u001b[0m\u001b[0m\n\u001b[0m\u001b[0;32m     77\u001b[0m \u001b[1;33m\u001b[0m\u001b[0m\n\u001b[0;32m     78\u001b[0m         \u001b[1;31m# this has side-effects, attaches k_constant and const_idx\u001b[0m\u001b[1;33m\u001b[0m\u001b[1;33m\u001b[0m\u001b[1;33m\u001b[0m\u001b[0m\n",
      "\u001b[1;32m~\\Anaconda3\\lib\\site-packages\\statsmodels\\base\\data.py\u001b[0m in \u001b[0;36m_convert_endog_exog\u001b[1;34m(self, endog, exog)\u001b[0m\n\u001b[0;32m    472\u001b[0m         \u001b[0mexog\u001b[0m \u001b[1;33m=\u001b[0m \u001b[0mexog\u001b[0m \u001b[1;32mif\u001b[0m \u001b[0mexog\u001b[0m \u001b[1;32mis\u001b[0m \u001b[1;32mNone\u001b[0m \u001b[1;32melse\u001b[0m \u001b[0mnp\u001b[0m\u001b[1;33m.\u001b[0m\u001b[0masarray\u001b[0m\u001b[1;33m(\u001b[0m\u001b[0mexog\u001b[0m\u001b[1;33m)\u001b[0m\u001b[1;33m\u001b[0m\u001b[1;33m\u001b[0m\u001b[0m\n\u001b[0;32m    473\u001b[0m         \u001b[1;32mif\u001b[0m \u001b[0mendog\u001b[0m\u001b[1;33m.\u001b[0m\u001b[0mdtype\u001b[0m \u001b[1;33m==\u001b[0m \u001b[0mobject\u001b[0m \u001b[1;32mor\u001b[0m \u001b[0mexog\u001b[0m \u001b[1;32mis\u001b[0m \u001b[1;32mnot\u001b[0m \u001b[1;32mNone\u001b[0m \u001b[1;32mand\u001b[0m \u001b[0mexog\u001b[0m\u001b[1;33m.\u001b[0m\u001b[0mdtype\u001b[0m \u001b[1;33m==\u001b[0m \u001b[0mobject\u001b[0m\u001b[1;33m:\u001b[0m\u001b[1;33m\u001b[0m\u001b[1;33m\u001b[0m\u001b[0m\n\u001b[1;32m--> 474\u001b[1;33m             raise ValueError(\"Pandas data cast to numpy dtype of object. \"\n\u001b[0m\u001b[0;32m    475\u001b[0m                              \"Check input data with np.asarray(data).\")\n\u001b[0;32m    476\u001b[0m         \u001b[1;32mreturn\u001b[0m \u001b[0msuper\u001b[0m\u001b[1;33m(\u001b[0m\u001b[0mPandasData\u001b[0m\u001b[1;33m,\u001b[0m \u001b[0mself\u001b[0m\u001b[1;33m)\u001b[0m\u001b[1;33m.\u001b[0m\u001b[0m_convert_endog_exog\u001b[0m\u001b[1;33m(\u001b[0m\u001b[0mendog\u001b[0m\u001b[1;33m,\u001b[0m \u001b[0mexog\u001b[0m\u001b[1;33m)\u001b[0m\u001b[1;33m\u001b[0m\u001b[1;33m\u001b[0m\u001b[0m\n",
      "\u001b[1;31mValueError\u001b[0m: Pandas data cast to numpy dtype of object. Check input data with np.asarray(data)."
     ]
    }
   ],
   "source": [
    "model_poission(qs)"
   ]
  },
  {
   "cell_type": "code",
   "execution_count": null,
   "metadata": {},
   "outputs": [],
   "source": []
  }
 ],
 "metadata": {
  "kernelspec": {
   "display_name": "Python 3",
   "language": "python",
   "name": "python3"
  },
  "language_info": {
   "codemirror_mode": {
    "name": "ipython",
    "version": 3
   },
   "file_extension": ".py",
   "mimetype": "text/x-python",
   "name": "python",
   "nbconvert_exporter": "python",
   "pygments_lexer": "ipython3",
   "version": "3.7.3"
  }
 },
 "nbformat": 4,
 "nbformat_minor": 2
}
