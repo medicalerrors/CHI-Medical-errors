{
 "cells": [
  {
   "cell_type": "code",
   "execution_count": 5,
   "metadata": {},
   "outputs": [
    {
     "name": "stderr",
     "output_type": "stream",
     "text": [
      "C:\\Users\\Dell\\Anaconda3\\lib\\site-packages\\ipykernel_launcher.py:20: SettingWithCopyWarning:\n",
      "\n",
      "\n",
      "A value is trying to be set on a copy of a slice from a DataFrame.\n",
      "Try using .loc[row_indexer,col_indexer] = value instead\n",
      "\n",
      "See the caveats in the documentation: http://pandas.pydata.org/pandas-docs/stable/indexing.html#indexing-view-versus-copy\n",
      "\n"
     ]
    },
    {
     "data": {
      "application/vnd.plotly.v1+json": {
       "config": {
        "plotlyServerURL": "https://plot.ly"
       },
       "data": [
        {
         "cells": {
          "align": [
           "left",
           "center"
          ],
          "fill": {
           "color": [
            [
             "white",
             "lightgrey",
             "white",
             "lightgrey",
             "white",
             "white",
             "lightgrey",
             "white",
             "lightgrey",
             "white",
             "white",
             "lightgrey",
             "white",
             "lightgrey",
             "white",
             "white",
             "lightgrey",
             "white",
             "lightgrey",
             "white",
             "white",
             "lightgrey",
             "white",
             "lightgrey",
             "white"
            ]
           ]
          },
          "font": {
           "color": "darkslategray",
           "size": 11
          },
          "line": {
           "color": "darkslategray"
          },
          "values": [
           [
            "Count",
            "Median",
            "IQR",
            "Male",
            "Female",
            "Out born",
            "In Born",
            "LSCS",
            "NVD",
            "Single",
            "Multiple",
            "Antenatal Steroids False",
            "Antenatal Steroids True",
            "NeoFax Error",
            "Med Admin Error",
            "ESPHGAN Error",
            "Nutri Admin Error",
            "RDS True",
            "Jaundice True",
            "Sepsis True"
           ],
           [
            242,
            13,
            "7.0 to 28.0",
            6,
            6,
            10,
            3,
            5,
            8,
            7,
            5,
            6,
            6,
            7,
            6,
            4,
            7,
            7,
            6,
            5
           ],
           [
            211,
            2,
            "1.0 to 4.0",
            3,
            2,
            2,
            3,
            2,
            3,
            3,
            3,
            2,
            3,
            6,
            " ",
            2,
            3,
            3,
            " ",
            3
           ],
           [
            110,
            1,
            "1.0 to 3.0",
            " ",
            " ",
            10,
            " ",
            " ",
            " ",
            " ",
            25,
            " ",
            " ",
            19,
            " ",
            " ",
            " ",
            " ",
            " ",
            " "
           ]
          ]
         },
         "header": {
          "align": [
           "left",
           "center"
          ],
          "fill": {
           "color": "grey"
          },
          "font": {
           "color": "white",
           "size": 12
          },
          "line": {
           "color": "darkslategray"
          },
          "values": [
           "<b>FIELDS</b>",
           "<b>Less than 34</b>",
           "<b>34 to 37</b>",
           "<b>Greater than 37</b>"
          ]
         },
         "type": "table"
        }
       ],
       "layout": {
        "template": {
         "data": {
          "bar": [
           {
            "error_x": {
             "color": "#2a3f5f"
            },
            "error_y": {
             "color": "#2a3f5f"
            },
            "marker": {
             "line": {
              "color": "#E5ECF6",
              "width": 0.5
             }
            },
            "type": "bar"
           }
          ],
          "barpolar": [
           {
            "marker": {
             "line": {
              "color": "#E5ECF6",
              "width": 0.5
             }
            },
            "type": "barpolar"
           }
          ],
          "carpet": [
           {
            "aaxis": {
             "endlinecolor": "#2a3f5f",
             "gridcolor": "white",
             "linecolor": "white",
             "minorgridcolor": "white",
             "startlinecolor": "#2a3f5f"
            },
            "baxis": {
             "endlinecolor": "#2a3f5f",
             "gridcolor": "white",
             "linecolor": "white",
             "minorgridcolor": "white",
             "startlinecolor": "#2a3f5f"
            },
            "type": "carpet"
           }
          ],
          "choropleth": [
           {
            "colorbar": {
             "outlinewidth": 0,
             "ticks": ""
            },
            "type": "choropleth"
           }
          ],
          "contour": [
           {
            "colorbar": {
             "outlinewidth": 0,
             "ticks": ""
            },
            "colorscale": [
             [
              0,
              "#0d0887"
             ],
             [
              0.1111111111111111,
              "#46039f"
             ],
             [
              0.2222222222222222,
              "#7201a8"
             ],
             [
              0.3333333333333333,
              "#9c179e"
             ],
             [
              0.4444444444444444,
              "#bd3786"
             ],
             [
              0.5555555555555556,
              "#d8576b"
             ],
             [
              0.6666666666666666,
              "#ed7953"
             ],
             [
              0.7777777777777778,
              "#fb9f3a"
             ],
             [
              0.8888888888888888,
              "#fdca26"
             ],
             [
              1,
              "#f0f921"
             ]
            ],
            "type": "contour"
           }
          ],
          "contourcarpet": [
           {
            "colorbar": {
             "outlinewidth": 0,
             "ticks": ""
            },
            "type": "contourcarpet"
           }
          ],
          "heatmap": [
           {
            "colorbar": {
             "outlinewidth": 0,
             "ticks": ""
            },
            "colorscale": [
             [
              0,
              "#0d0887"
             ],
             [
              0.1111111111111111,
              "#46039f"
             ],
             [
              0.2222222222222222,
              "#7201a8"
             ],
             [
              0.3333333333333333,
              "#9c179e"
             ],
             [
              0.4444444444444444,
              "#bd3786"
             ],
             [
              0.5555555555555556,
              "#d8576b"
             ],
             [
              0.6666666666666666,
              "#ed7953"
             ],
             [
              0.7777777777777778,
              "#fb9f3a"
             ],
             [
              0.8888888888888888,
              "#fdca26"
             ],
             [
              1,
              "#f0f921"
             ]
            ],
            "type": "heatmap"
           }
          ],
          "heatmapgl": [
           {
            "colorbar": {
             "outlinewidth": 0,
             "ticks": ""
            },
            "colorscale": [
             [
              0,
              "#0d0887"
             ],
             [
              0.1111111111111111,
              "#46039f"
             ],
             [
              0.2222222222222222,
              "#7201a8"
             ],
             [
              0.3333333333333333,
              "#9c179e"
             ],
             [
              0.4444444444444444,
              "#bd3786"
             ],
             [
              0.5555555555555556,
              "#d8576b"
             ],
             [
              0.6666666666666666,
              "#ed7953"
             ],
             [
              0.7777777777777778,
              "#fb9f3a"
             ],
             [
              0.8888888888888888,
              "#fdca26"
             ],
             [
              1,
              "#f0f921"
             ]
            ],
            "type": "heatmapgl"
           }
          ],
          "histogram": [
           {
            "marker": {
             "colorbar": {
              "outlinewidth": 0,
              "ticks": ""
             }
            },
            "type": "histogram"
           }
          ],
          "histogram2d": [
           {
            "colorbar": {
             "outlinewidth": 0,
             "ticks": ""
            },
            "colorscale": [
             [
              0,
              "#0d0887"
             ],
             [
              0.1111111111111111,
              "#46039f"
             ],
             [
              0.2222222222222222,
              "#7201a8"
             ],
             [
              0.3333333333333333,
              "#9c179e"
             ],
             [
              0.4444444444444444,
              "#bd3786"
             ],
             [
              0.5555555555555556,
              "#d8576b"
             ],
             [
              0.6666666666666666,
              "#ed7953"
             ],
             [
              0.7777777777777778,
              "#fb9f3a"
             ],
             [
              0.8888888888888888,
              "#fdca26"
             ],
             [
              1,
              "#f0f921"
             ]
            ],
            "type": "histogram2d"
           }
          ],
          "histogram2dcontour": [
           {
            "colorbar": {
             "outlinewidth": 0,
             "ticks": ""
            },
            "colorscale": [
             [
              0,
              "#0d0887"
             ],
             [
              0.1111111111111111,
              "#46039f"
             ],
             [
              0.2222222222222222,
              "#7201a8"
             ],
             [
              0.3333333333333333,
              "#9c179e"
             ],
             [
              0.4444444444444444,
              "#bd3786"
             ],
             [
              0.5555555555555556,
              "#d8576b"
             ],
             [
              0.6666666666666666,
              "#ed7953"
             ],
             [
              0.7777777777777778,
              "#fb9f3a"
             ],
             [
              0.8888888888888888,
              "#fdca26"
             ],
             [
              1,
              "#f0f921"
             ]
            ],
            "type": "histogram2dcontour"
           }
          ],
          "mesh3d": [
           {
            "colorbar": {
             "outlinewidth": 0,
             "ticks": ""
            },
            "type": "mesh3d"
           }
          ],
          "parcoords": [
           {
            "line": {
             "colorbar": {
              "outlinewidth": 0,
              "ticks": ""
             }
            },
            "type": "parcoords"
           }
          ],
          "scatter": [
           {
            "marker": {
             "colorbar": {
              "outlinewidth": 0,
              "ticks": ""
             }
            },
            "type": "scatter"
           }
          ],
          "scatter3d": [
           {
            "line": {
             "colorbar": {
              "outlinewidth": 0,
              "ticks": ""
             }
            },
            "marker": {
             "colorbar": {
              "outlinewidth": 0,
              "ticks": ""
             }
            },
            "type": "scatter3d"
           }
          ],
          "scattercarpet": [
           {
            "marker": {
             "colorbar": {
              "outlinewidth": 0,
              "ticks": ""
             }
            },
            "type": "scattercarpet"
           }
          ],
          "scattergeo": [
           {
            "marker": {
             "colorbar": {
              "outlinewidth": 0,
              "ticks": ""
             }
            },
            "type": "scattergeo"
           }
          ],
          "scattergl": [
           {
            "marker": {
             "colorbar": {
              "outlinewidth": 0,
              "ticks": ""
             }
            },
            "type": "scattergl"
           }
          ],
          "scattermapbox": [
           {
            "marker": {
             "colorbar": {
              "outlinewidth": 0,
              "ticks": ""
             }
            },
            "type": "scattermapbox"
           }
          ],
          "scatterpolar": [
           {
            "marker": {
             "colorbar": {
              "outlinewidth": 0,
              "ticks": ""
             }
            },
            "type": "scatterpolar"
           }
          ],
          "scatterpolargl": [
           {
            "marker": {
             "colorbar": {
              "outlinewidth": 0,
              "ticks": ""
             }
            },
            "type": "scatterpolargl"
           }
          ],
          "scatterternary": [
           {
            "marker": {
             "colorbar": {
              "outlinewidth": 0,
              "ticks": ""
             }
            },
            "type": "scatterternary"
           }
          ],
          "surface": [
           {
            "colorbar": {
             "outlinewidth": 0,
             "ticks": ""
            },
            "colorscale": [
             [
              0,
              "#0d0887"
             ],
             [
              0.1111111111111111,
              "#46039f"
             ],
             [
              0.2222222222222222,
              "#7201a8"
             ],
             [
              0.3333333333333333,
              "#9c179e"
             ],
             [
              0.4444444444444444,
              "#bd3786"
             ],
             [
              0.5555555555555556,
              "#d8576b"
             ],
             [
              0.6666666666666666,
              "#ed7953"
             ],
             [
              0.7777777777777778,
              "#fb9f3a"
             ],
             [
              0.8888888888888888,
              "#fdca26"
             ],
             [
              1,
              "#f0f921"
             ]
            ],
            "type": "surface"
           }
          ],
          "table": [
           {
            "cells": {
             "fill": {
              "color": "#EBF0F8"
             },
             "line": {
              "color": "white"
             }
            },
            "header": {
             "fill": {
              "color": "#C8D4E3"
             },
             "line": {
              "color": "white"
             }
            },
            "type": "table"
           }
          ]
         },
         "layout": {
          "annotationdefaults": {
           "arrowcolor": "#2a3f5f",
           "arrowhead": 0,
           "arrowwidth": 1
          },
          "colorscale": {
           "diverging": [
            [
             0,
             "#8e0152"
            ],
            [
             0.1,
             "#c51b7d"
            ],
            [
             0.2,
             "#de77ae"
            ],
            [
             0.3,
             "#f1b6da"
            ],
            [
             0.4,
             "#fde0ef"
            ],
            [
             0.5,
             "#f7f7f7"
            ],
            [
             0.6,
             "#e6f5d0"
            ],
            [
             0.7,
             "#b8e186"
            ],
            [
             0.8,
             "#7fbc41"
            ],
            [
             0.9,
             "#4d9221"
            ],
            [
             1,
             "#276419"
            ]
           ],
           "sequential": [
            [
             0,
             "#0d0887"
            ],
            [
             0.1111111111111111,
             "#46039f"
            ],
            [
             0.2222222222222222,
             "#7201a8"
            ],
            [
             0.3333333333333333,
             "#9c179e"
            ],
            [
             0.4444444444444444,
             "#bd3786"
            ],
            [
             0.5555555555555556,
             "#d8576b"
            ],
            [
             0.6666666666666666,
             "#ed7953"
            ],
            [
             0.7777777777777778,
             "#fb9f3a"
            ],
            [
             0.8888888888888888,
             "#fdca26"
            ],
            [
             1,
             "#f0f921"
            ]
           ],
           "sequentialminus": [
            [
             0,
             "#0d0887"
            ],
            [
             0.1111111111111111,
             "#46039f"
            ],
            [
             0.2222222222222222,
             "#7201a8"
            ],
            [
             0.3333333333333333,
             "#9c179e"
            ],
            [
             0.4444444444444444,
             "#bd3786"
            ],
            [
             0.5555555555555556,
             "#d8576b"
            ],
            [
             0.6666666666666666,
             "#ed7953"
            ],
            [
             0.7777777777777778,
             "#fb9f3a"
            ],
            [
             0.8888888888888888,
             "#fdca26"
            ],
            [
             1,
             "#f0f921"
            ]
           ]
          },
          "colorway": [
           "#636efa",
           "#EF553B",
           "#00cc96",
           "#ab63fa",
           "#FFA15A",
           "#19d3f3",
           "#FF6692",
           "#B6E880",
           "#FF97FF",
           "#FECB52"
          ],
          "font": {
           "color": "#2a3f5f"
          },
          "geo": {
           "bgcolor": "white",
           "lakecolor": "white",
           "landcolor": "#E5ECF6",
           "showlakes": true,
           "showland": true,
           "subunitcolor": "white"
          },
          "hoverlabel": {
           "align": "left"
          },
          "hovermode": "closest",
          "mapbox": {
           "style": "light"
          },
          "paper_bgcolor": "white",
          "plot_bgcolor": "#E5ECF6",
          "polar": {
           "angularaxis": {
            "gridcolor": "white",
            "linecolor": "white",
            "ticks": ""
           },
           "bgcolor": "#E5ECF6",
           "radialaxis": {
            "gridcolor": "white",
            "linecolor": "white",
            "ticks": ""
           }
          },
          "scene": {
           "xaxis": {
            "backgroundcolor": "#E5ECF6",
            "gridcolor": "white",
            "gridwidth": 2,
            "linecolor": "white",
            "showbackground": true,
            "ticks": "",
            "zerolinecolor": "white"
           },
           "yaxis": {
            "backgroundcolor": "#E5ECF6",
            "gridcolor": "white",
            "gridwidth": 2,
            "linecolor": "white",
            "showbackground": true,
            "ticks": "",
            "zerolinecolor": "white"
           },
           "zaxis": {
            "backgroundcolor": "#E5ECF6",
            "gridcolor": "white",
            "gridwidth": 2,
            "linecolor": "white",
            "showbackground": true,
            "ticks": "",
            "zerolinecolor": "white"
           }
          },
          "shapedefaults": {
           "line": {
            "color": "#2a3f5f"
           }
          },
          "ternary": {
           "aaxis": {
            "gridcolor": "white",
            "linecolor": "white",
            "ticks": ""
           },
           "baxis": {
            "gridcolor": "white",
            "linecolor": "white",
            "ticks": ""
           },
           "bgcolor": "#E5ECF6",
           "caxis": {
            "gridcolor": "white",
            "linecolor": "white",
            "ticks": ""
           }
          },
          "title": {
           "x": 0.05
          },
          "xaxis": {
           "automargin": true,
           "gridcolor": "white",
           "linecolor": "white",
           "ticks": "",
           "zerolinecolor": "white",
           "zerolinewidth": 2
          },
          "yaxis": {
           "automargin": true,
           "gridcolor": "white",
           "linecolor": "white",
           "ticks": "",
           "zerolinecolor": "white",
           "zerolinewidth": 2
          }
         }
        }
       }
      },
      "text/html": [
       "<div>\n",
       "        \n",
       "        \n",
       "            <div id=\"a4be2bce-c05b-4d17-9df8-b5e836c24db5\" class=\"plotly-graph-div\" style=\"height:525px; width:100%;\"></div>\n",
       "            <script type=\"text/javascript\">\n",
       "                require([\"plotly\"], function(Plotly) {\n",
       "                    window.PLOTLYENV=window.PLOTLYENV || {};\n",
       "                    \n",
       "                if (document.getElementById(\"a4be2bce-c05b-4d17-9df8-b5e836c24db5\")) {\n",
       "                    Plotly.newPlot(\n",
       "                        'a4be2bce-c05b-4d17-9df8-b5e836c24db5',\n",
       "                        [{\"cells\": {\"align\": [\"left\", \"center\"], \"fill\": {\"color\": [[\"white\", \"lightgrey\", \"white\", \"lightgrey\", \"white\", \"white\", \"lightgrey\", \"white\", \"lightgrey\", \"white\", \"white\", \"lightgrey\", \"white\", \"lightgrey\", \"white\", \"white\", \"lightgrey\", \"white\", \"lightgrey\", \"white\", \"white\", \"lightgrey\", \"white\", \"lightgrey\", \"white\"]]}, \"font\": {\"color\": \"darkslategray\", \"size\": 11}, \"line\": {\"color\": \"darkslategray\"}, \"values\": [[\"Count\", \"Median\", \"IQR\", \"Male\", \"Female\", \"Out born\", \"In Born\", \"LSCS\", \"NVD\", \"Single\", \"Multiple\", \"Antenatal Steroids False\", \"Antenatal Steroids True\", \"NeoFax Error\", \"Med Admin Error\", \"ESPHGAN Error\", \"Nutri Admin Error\", \"RDS True\", \"Jaundice True\", \"Sepsis True\"], [242, 13.0, \"7.0 to 28.0\", 6.0, 6.0, 10.0, 3.0, 5.0, 8.0, 7.0, 5.0, 6.0, 6.0, 7.0, 6.0, 4.0, 7.0, 7.0, 6.0, 5.0], [211, 2.0, \"1.0 to 4.0\", 3.0, 2.0, 2.0, 3.0, 2.0, 3.0, 3.0, 3.0, 2.0, 3.0, 6.0, \" \", 2.0, 3.0, 3.0, \" \", 3.0], [110, 1.0, \"1.0 to 3.0\", \" \", \" \", 10.0, \" \", \" \", \" \", \" \", 25.0, \" \", \" \", 19.0, \" \", \" \", \" \", \" \", \" \", \" \"]]}, \"header\": {\"align\": [\"left\", \"center\"], \"fill\": {\"color\": \"grey\"}, \"font\": {\"color\": \"white\", \"size\": 12}, \"line\": {\"color\": \"darkslategray\"}, \"values\": [\"<b>FIELDS</b>\", \"<b>Less than 34</b>\", \"<b>34 to 37</b>\", \"<b>Greater than 37</b>\"]}, \"type\": \"table\"}],\n",
       "                        {\"template\": {\"data\": {\"bar\": [{\"error_x\": {\"color\": \"#2a3f5f\"}, \"error_y\": {\"color\": \"#2a3f5f\"}, \"marker\": {\"line\": {\"color\": \"#E5ECF6\", \"width\": 0.5}}, \"type\": \"bar\"}], \"barpolar\": [{\"marker\": {\"line\": {\"color\": \"#E5ECF6\", \"width\": 0.5}}, \"type\": \"barpolar\"}], \"carpet\": [{\"aaxis\": {\"endlinecolor\": \"#2a3f5f\", \"gridcolor\": \"white\", \"linecolor\": \"white\", \"minorgridcolor\": \"white\", \"startlinecolor\": \"#2a3f5f\"}, \"baxis\": {\"endlinecolor\": \"#2a3f5f\", \"gridcolor\": \"white\", \"linecolor\": \"white\", \"minorgridcolor\": \"white\", \"startlinecolor\": \"#2a3f5f\"}, \"type\": \"carpet\"}], \"choropleth\": [{\"colorbar\": {\"outlinewidth\": 0, \"ticks\": \"\"}, \"type\": \"choropleth\"}], \"contour\": [{\"colorbar\": {\"outlinewidth\": 0, \"ticks\": \"\"}, \"colorscale\": [[0.0, \"#0d0887\"], [0.1111111111111111, \"#46039f\"], [0.2222222222222222, \"#7201a8\"], [0.3333333333333333, \"#9c179e\"], [0.4444444444444444, \"#bd3786\"], [0.5555555555555556, \"#d8576b\"], [0.6666666666666666, \"#ed7953\"], [0.7777777777777778, \"#fb9f3a\"], [0.8888888888888888, \"#fdca26\"], [1.0, \"#f0f921\"]], \"type\": \"contour\"}], \"contourcarpet\": [{\"colorbar\": {\"outlinewidth\": 0, \"ticks\": \"\"}, \"type\": \"contourcarpet\"}], \"heatmap\": [{\"colorbar\": {\"outlinewidth\": 0, \"ticks\": \"\"}, \"colorscale\": [[0.0, \"#0d0887\"], [0.1111111111111111, \"#46039f\"], [0.2222222222222222, \"#7201a8\"], [0.3333333333333333, \"#9c179e\"], [0.4444444444444444, \"#bd3786\"], [0.5555555555555556, \"#d8576b\"], [0.6666666666666666, \"#ed7953\"], [0.7777777777777778, \"#fb9f3a\"], [0.8888888888888888, \"#fdca26\"], [1.0, \"#f0f921\"]], \"type\": \"heatmap\"}], \"heatmapgl\": [{\"colorbar\": {\"outlinewidth\": 0, \"ticks\": \"\"}, \"colorscale\": [[0.0, \"#0d0887\"], [0.1111111111111111, \"#46039f\"], [0.2222222222222222, \"#7201a8\"], [0.3333333333333333, \"#9c179e\"], [0.4444444444444444, \"#bd3786\"], [0.5555555555555556, \"#d8576b\"], [0.6666666666666666, \"#ed7953\"], [0.7777777777777778, \"#fb9f3a\"], [0.8888888888888888, \"#fdca26\"], [1.0, \"#f0f921\"]], \"type\": \"heatmapgl\"}], \"histogram\": [{\"marker\": {\"colorbar\": {\"outlinewidth\": 0, \"ticks\": \"\"}}, \"type\": \"histogram\"}], \"histogram2d\": [{\"colorbar\": {\"outlinewidth\": 0, \"ticks\": \"\"}, \"colorscale\": [[0.0, \"#0d0887\"], [0.1111111111111111, \"#46039f\"], [0.2222222222222222, \"#7201a8\"], [0.3333333333333333, \"#9c179e\"], [0.4444444444444444, \"#bd3786\"], [0.5555555555555556, \"#d8576b\"], [0.6666666666666666, \"#ed7953\"], [0.7777777777777778, \"#fb9f3a\"], [0.8888888888888888, \"#fdca26\"], [1.0, \"#f0f921\"]], \"type\": \"histogram2d\"}], \"histogram2dcontour\": [{\"colorbar\": {\"outlinewidth\": 0, \"ticks\": \"\"}, \"colorscale\": [[0.0, \"#0d0887\"], [0.1111111111111111, \"#46039f\"], [0.2222222222222222, \"#7201a8\"], [0.3333333333333333, \"#9c179e\"], [0.4444444444444444, \"#bd3786\"], [0.5555555555555556, \"#d8576b\"], [0.6666666666666666, \"#ed7953\"], [0.7777777777777778, \"#fb9f3a\"], [0.8888888888888888, \"#fdca26\"], [1.0, \"#f0f921\"]], \"type\": \"histogram2dcontour\"}], \"mesh3d\": [{\"colorbar\": {\"outlinewidth\": 0, \"ticks\": \"\"}, \"type\": \"mesh3d\"}], \"parcoords\": [{\"line\": {\"colorbar\": {\"outlinewidth\": 0, \"ticks\": \"\"}}, \"type\": \"parcoords\"}], \"scatter\": [{\"marker\": {\"colorbar\": {\"outlinewidth\": 0, \"ticks\": \"\"}}, \"type\": \"scatter\"}], \"scatter3d\": [{\"line\": {\"colorbar\": {\"outlinewidth\": 0, \"ticks\": \"\"}}, \"marker\": {\"colorbar\": {\"outlinewidth\": 0, \"ticks\": \"\"}}, \"type\": \"scatter3d\"}], \"scattercarpet\": [{\"marker\": {\"colorbar\": {\"outlinewidth\": 0, \"ticks\": \"\"}}, \"type\": \"scattercarpet\"}], \"scattergeo\": [{\"marker\": {\"colorbar\": {\"outlinewidth\": 0, \"ticks\": \"\"}}, \"type\": \"scattergeo\"}], \"scattergl\": [{\"marker\": {\"colorbar\": {\"outlinewidth\": 0, \"ticks\": \"\"}}, \"type\": \"scattergl\"}], \"scattermapbox\": [{\"marker\": {\"colorbar\": {\"outlinewidth\": 0, \"ticks\": \"\"}}, \"type\": \"scattermapbox\"}], \"scatterpolar\": [{\"marker\": {\"colorbar\": {\"outlinewidth\": 0, \"ticks\": \"\"}}, \"type\": \"scatterpolar\"}], \"scatterpolargl\": [{\"marker\": {\"colorbar\": {\"outlinewidth\": 0, \"ticks\": \"\"}}, \"type\": \"scatterpolargl\"}], \"scatterternary\": [{\"marker\": {\"colorbar\": {\"outlinewidth\": 0, \"ticks\": \"\"}}, \"type\": \"scatterternary\"}], \"surface\": [{\"colorbar\": {\"outlinewidth\": 0, \"ticks\": \"\"}, \"colorscale\": [[0.0, \"#0d0887\"], [0.1111111111111111, \"#46039f\"], [0.2222222222222222, \"#7201a8\"], [0.3333333333333333, \"#9c179e\"], [0.4444444444444444, \"#bd3786\"], [0.5555555555555556, \"#d8576b\"], [0.6666666666666666, \"#ed7953\"], [0.7777777777777778, \"#fb9f3a\"], [0.8888888888888888, \"#fdca26\"], [1.0, \"#f0f921\"]], \"type\": \"surface\"}], \"table\": [{\"cells\": {\"fill\": {\"color\": \"#EBF0F8\"}, \"line\": {\"color\": \"white\"}}, \"header\": {\"fill\": {\"color\": \"#C8D4E3\"}, \"line\": {\"color\": \"white\"}}, \"type\": \"table\"}]}, \"layout\": {\"annotationdefaults\": {\"arrowcolor\": \"#2a3f5f\", \"arrowhead\": 0, \"arrowwidth\": 1}, \"colorscale\": {\"diverging\": [[0, \"#8e0152\"], [0.1, \"#c51b7d\"], [0.2, \"#de77ae\"], [0.3, \"#f1b6da\"], [0.4, \"#fde0ef\"], [0.5, \"#f7f7f7\"], [0.6, \"#e6f5d0\"], [0.7, \"#b8e186\"], [0.8, \"#7fbc41\"], [0.9, \"#4d9221\"], [1, \"#276419\"]], \"sequential\": [[0.0, \"#0d0887\"], [0.1111111111111111, \"#46039f\"], [0.2222222222222222, \"#7201a8\"], [0.3333333333333333, \"#9c179e\"], [0.4444444444444444, \"#bd3786\"], [0.5555555555555556, \"#d8576b\"], [0.6666666666666666, \"#ed7953\"], [0.7777777777777778, \"#fb9f3a\"], [0.8888888888888888, \"#fdca26\"], [1.0, \"#f0f921\"]], \"sequentialminus\": [[0.0, \"#0d0887\"], [0.1111111111111111, \"#46039f\"], [0.2222222222222222, \"#7201a8\"], [0.3333333333333333, \"#9c179e\"], [0.4444444444444444, \"#bd3786\"], [0.5555555555555556, \"#d8576b\"], [0.6666666666666666, \"#ed7953\"], [0.7777777777777778, \"#fb9f3a\"], [0.8888888888888888, \"#fdca26\"], [1.0, \"#f0f921\"]]}, \"colorway\": [\"#636efa\", \"#EF553B\", \"#00cc96\", \"#ab63fa\", \"#FFA15A\", \"#19d3f3\", \"#FF6692\", \"#B6E880\", \"#FF97FF\", \"#FECB52\"], \"font\": {\"color\": \"#2a3f5f\"}, \"geo\": {\"bgcolor\": \"white\", \"lakecolor\": \"white\", \"landcolor\": \"#E5ECF6\", \"showlakes\": true, \"showland\": true, \"subunitcolor\": \"white\"}, \"hoverlabel\": {\"align\": \"left\"}, \"hovermode\": \"closest\", \"mapbox\": {\"style\": \"light\"}, \"paper_bgcolor\": \"white\", \"plot_bgcolor\": \"#E5ECF6\", \"polar\": {\"angularaxis\": {\"gridcolor\": \"white\", \"linecolor\": \"white\", \"ticks\": \"\"}, \"bgcolor\": \"#E5ECF6\", \"radialaxis\": {\"gridcolor\": \"white\", \"linecolor\": \"white\", \"ticks\": \"\"}}, \"scene\": {\"xaxis\": {\"backgroundcolor\": \"#E5ECF6\", \"gridcolor\": \"white\", \"gridwidth\": 2, \"linecolor\": \"white\", \"showbackground\": true, \"ticks\": \"\", \"zerolinecolor\": \"white\"}, \"yaxis\": {\"backgroundcolor\": \"#E5ECF6\", \"gridcolor\": \"white\", \"gridwidth\": 2, \"linecolor\": \"white\", \"showbackground\": true, \"ticks\": \"\", \"zerolinecolor\": \"white\"}, \"zaxis\": {\"backgroundcolor\": \"#E5ECF6\", \"gridcolor\": \"white\", \"gridwidth\": 2, \"linecolor\": \"white\", \"showbackground\": true, \"ticks\": \"\", \"zerolinecolor\": \"white\"}}, \"shapedefaults\": {\"line\": {\"color\": \"#2a3f5f\"}}, \"ternary\": {\"aaxis\": {\"gridcolor\": \"white\", \"linecolor\": \"white\", \"ticks\": \"\"}, \"baxis\": {\"gridcolor\": \"white\", \"linecolor\": \"white\", \"ticks\": \"\"}, \"bgcolor\": \"#E5ECF6\", \"caxis\": {\"gridcolor\": \"white\", \"linecolor\": \"white\", \"ticks\": \"\"}}, \"title\": {\"x\": 0.05}, \"xaxis\": {\"automargin\": true, \"gridcolor\": \"white\", \"linecolor\": \"white\", \"ticks\": \"\", \"zerolinecolor\": \"white\", \"zerolinewidth\": 2}, \"yaxis\": {\"automargin\": true, \"gridcolor\": \"white\", \"linecolor\": \"white\", \"ticks\": \"\", \"zerolinecolor\": \"white\", \"zerolinewidth\": 2}}}},\n",
       "                        {\"responsive\": true}\n",
       "                    ).then(function(){\n",
       "                            \n",
       "var gd = document.getElementById('a4be2bce-c05b-4d17-9df8-b5e836c24db5');\n",
       "var x = new MutationObserver(function (mutations, observer) {{\n",
       "        var display = window.getComputedStyle(gd).display;\n",
       "        if (!display || display === 'none') {{\n",
       "            console.log([gd, 'removed!']);\n",
       "            Plotly.purge(gd);\n",
       "            observer.disconnect();\n",
       "        }}\n",
       "}});\n",
       "\n",
       "// Listen for the removal of the full notebook cells\n",
       "var notebookContainer = gd.closest('#notebook-container');\n",
       "if (notebookContainer) {{\n",
       "    x.observe(notebookContainer, {childList: true});\n",
       "}}\n",
       "\n",
       "// Listen for the clearing of the current output cell\n",
       "var outputEl = gd.closest('.output');\n",
       "if (outputEl) {{\n",
       "    x.observe(outputEl, {childList: true});\n",
       "}}\n",
       "\n",
       "                        })\n",
       "                };\n",
       "                });\n",
       "            </script>\n",
       "        </div>"
      ]
     },
     "metadata": {},
     "output_type": "display_data"
    }
   ],
   "source": [
    "\n",
    "import pandas as pd\n",
    "import numpy as np\n",
    "import matplotlib.pyplot as plt\n",
    "import seaborn as sns\n",
    "import itertools\n",
    "import statsmodels.api as sm\n",
    "import plotly.graph_objects as go\n",
    "\n",
    "%matplotlib inline\n",
    "\n",
    "#Reading the file\n",
    "\n",
    "data = pd.read_csv(r'C:\\Users\\Dell\\Desktop\\CHI-Medical-errors-master\\CHI-Medical-errors-master\\Site_1.csv')\n",
    "\n",
    "#Creating Dummies\n",
    "\n",
    "def get_dum(x):\n",
    "    for elem in qs[x].unique():\n",
    "        qs[str(elem)] = qs[x] == elem\n",
    "        \n",
    "qs = data[['uhid','Gender','MODE_OF_DELIVERY','inout_patient_status','Gestation','LOS','NEOFAX_ERRORS','MED_ADMIN_ERRORS','ESPGHAN','NUTR_ADMIN','RDS',\n",
    "       'JAUNDICE', 'SEPSIS','baby_type','ANTENATA_STEROIDS']]\n",
    "\n",
    "#Converting to Binary\n",
    "\n",
    "def conv(x):\n",
    "    if x == True:\n",
    "        return 1\n",
    "    else:\n",
    "        return 0\n",
    "\n",
    "    \n",
    "#Calling the get_dum function to create dummy variables\n",
    "get_dum('inout_patient_status')\n",
    "#Deleting the Original column after the dummy variables were created\n",
    "qs.drop('inout_patient_status',axis=1,inplace=True)\n",
    "get_dum('NEOFAX_ERRORS')\n",
    "qs = qs.rename(columns={\"No_err\": \"NF No_err\", \"ERROR\": \"NF ERROR\"})\n",
    "qs.drop('NEOFAX_ERRORS',axis=1,inplace=True)\n",
    "get_dum('MED_ADMIN_ERRORS')\n",
    "qs = qs.rename(columns={\"No_err\": \"MED ADMIN No_err\", \"ERROR\": \"MED ADMIN ERROR\", \"Not eligible\" : \"MED ADMIN Not eligible\"})\n",
    "qs.drop('MED_ADMIN_ERRORS',axis=1,inplace=True)\n",
    "get_dum('ESPGHAN')\n",
    "qs = qs.rename(columns={\"No_err\": \"ESPGHAN No_err\", \"ERROR\": \"ESPGHAN ERROR\",\"Not eligible\":\"ESPGHAN NE\"})\n",
    "get_dum('NUTR_ADMIN')\n",
    "qs = qs.rename(columns={\"No_err\": \"NUTRI ADMIN No_err\", \"ERROR\": \"NUTRI ADMIN ERROR\",\"Not eligible\":\"NUTRI ADMIN NE\"})\n",
    "get_dum('Gender')\n",
    "get_dum('RDS')\n",
    "qs = qs.rename(columns={\"False\": \"RDS False\", \"True\": \"RDS True\"})\n",
    "get_dum('JAUNDICE')\n",
    "qs = qs.rename(columns={\"False\": \"Jaundice False\", \"True\": \"Jaundice True\"})\n",
    "get_dum('SEPSIS')\n",
    "qs = qs.rename(columns={\"False\": \"Sepsis False\", \"True\": \"Sepsis True\"})\n",
    "get_dum('MODE_OF_DELIVERY')\n",
    "get_dum('baby_type')\n",
    "get_dum('ANTENATA_STEROIDS')\n",
    "qs = qs.rename(columns={\"false\": \"Antenatal ST False\", \"true\": \"Antenatal ST True\", \"unknown\":\"Antenatal ST Unknown\"})\n",
    "qs.drop('MODE_OF_DELIVERY',axis=1,inplace=True)\n",
    "qs.drop('baby_type',axis=1,inplace=True)\n",
    "#qs.drop('nan',axis=1,inplace=True)\n",
    "qs.drop('RDS',axis=1,inplace=True)\n",
    "qs.drop('JAUNDICE',axis=1,inplace=True)\n",
    "qs.drop('SEPSIS',axis=1,inplace=True)\n",
    "qs.drop('NUTR_ADMIN',axis=1,inplace=True)\n",
    "qs.drop('ESPGHAN',axis=1,inplace=True)\n",
    "qs.drop('Gender',axis=1,inplace=True)\n",
    "qs.drop('ANTENATA_STEROIDS',axis=1,inplace=True)\n",
    "\n",
    "l = ['In Born', 'Out Born', 'NF No_err', 'NF ERROR',\n",
    "        'MED ADMIN No_err', 'MED ADMIN ERROR',\n",
    "       'ESPGHAN ERROR', 'ESPGHAN No_err', 'NUTRI ADMIN ERROR',\n",
    "       'NUTRI ADMIN No_err','NUTRI ADMIN No_err' ,'Male', 'Female', 'RDS False', 'RDS True',\n",
    "       'Jaundice False', 'Jaundice True', 'Sepsis False', 'Sepsis True',\n",
    "       'LSCS', 'NVD', 'Single', 'Multiple', 'False',\n",
    "       'True']\n",
    "\n",
    "#Applying the conv function to convert the columns to 1s and 0s\n",
    "for i in l:\n",
    "    qs[i] = qs[i].apply(conv)\n",
    "    \n",
    "#Model is defined\n",
    "    \n",
    "def model(data):\n",
    "    y = np.log(data['LOS'])\n",
    "    X = data.drop('LOS',axis=1)\n",
    "    X.drop('uhid',axis=1,inplace=True)\n",
    "    NegBi_model = sm.OLS(y,X)\n",
    "    NegBi_results = NegBi_model.fit()\n",
    "    #the model summary is coverted to an HTML format so that the P values can be referenced individually\n",
    "    results_as_html = NegBi_results.summary().tables[1].as_html()\n",
    "    dt = pd.read_html(results_as_html, header=0, index_col=0)[0]\n",
    "\n",
    "    return (NegBi_results.params, dt)\n",
    "\n",
    "#Splitting the dataset into 3 gestation groups\n",
    "data_34 = qs[qs['Gestation']<34]\n",
    "data_36 = qs[(qs['Gestation']>=34) & (qs['Gestation']<=37)]\n",
    "data_37 = qs[qs['Gestation']>37]\n",
    "\n",
    "#Reference Grid for LS Means Calculation\n",
    "\n",
    "def refgrid(x):\n",
    "\n",
    "    gest = [x[0]]\n",
    "    inout = [x[2],x[1]]\n",
    "    NF = [x[3],x[4]]\n",
    "    med_admin = [x[6],x[5]]\n",
    "    espghan = [x[7],x[8]]\n",
    "    nutri = [x[9],x[10]]\n",
    "    gender = [x[11],x[12]]\n",
    "    rds = [x[14],x[13]]\n",
    "    jaundice = [x[15],x[16]]\n",
    "    sepsis = [x[17],x[18]]\n",
    "    typelsnv = [x[19],x[20]]\n",
    "    type123 = [x[21],x[22]]\n",
    "    anst = [x[23],x[24]]\n",
    "    los_combo = list(itertools.product(inout,NF,med_admin,espghan,gender,nutri,rds,jaundice,sepsis,typelsnv,type123,anst,gest))\n",
    "    los_df = pd.DataFrame(los_combo)\n",
    "    los_df = los_df.rename(columns={0: \"inout\", 1: \"NF\", 2 : \"Med_admin\", 3: \"espghan\", 4:\"nutri\", 5:\"gender\", 6:\"rds\", 7:\"jaundice\", 8:\"sepsis\",9:\"lscs_nvd\",10:\"birth_type\",11:\"ant_std\",12:\"Gestation\"})\n",
    "    return los_df\n",
    "\n",
    "#Calculation for each gestation group\n",
    "\n",
    "def choice34_37(x):\n",
    "    z, m = model(data_36)\n",
    "    \n",
    "    d = []\n",
    "    e = []\n",
    "    a = refgrid(z)\n",
    "    q ={\"inout\":1, \"NF\":3, \"Med_admin\":5, \"espghan\":7, \"nutri\":9, \"gender\":11, \"rds\":13, \"jaundice\":15, \"sepsis\":17, \"lscs_nvd\":19, \"birth_type\":21,\"ant_std\":23}\n",
    "    p = q[x]\n",
    "    \n",
    "    los = a\n",
    "    los_new = a.drop(str(x),axis=1)\n",
    "    los_1 = los_new.drop('Gestation',axis=1)\n",
    "    los_1['sum'] = los_new.sum(axis=1)\n",
    "    \n",
    "    \n",
    "    \n",
    "    \n",
    "    if m['P>|t|'][p] < .05 and m['P>|t|'][p+1] < .05:\n",
    "           \n",
    "        #los1 = qs[qs['Gestation']<34]\n",
    "        #median1 = np.median(los1['LOS'])\n",
    "        \n",
    "        for j in range(len(los_new)):\n",
    "            for i in np.arange(34.0,37.0,0.1):\n",
    "                d.append(los_1['sum'].iloc[j] + (los_new['Gestation'].iloc[j])*i + los[x].iloc[0])\n",
    "                e.append(los_1['sum'].iloc[j] + (los_new['Gestation'].iloc[j])*i + los[x].iloc[4095])\n",
    "        s = pd.DataFrame(d)\n",
    "        t = pd.DataFrame(e)\n",
    "        \n",
    "        return(round(np.exp(s.mean())[0]-data_36.median()[1]),round(np.exp(t.mean())[0]-data_36.median()[1]))\n",
    "    elif m['P>|t|'][p] < .05 and m['P>|t|'][p+1] > .05:\n",
    "        for j in range(len(los_new)):\n",
    "            for i in np.arange(34.0,37.0,0.1):\n",
    "                d.append(los_1['sum'].iloc[j] + (los_new['Gestation'].iloc[j])*i + los[x].iloc[0])\n",
    "                e.append(0)\n",
    "        s = pd.DataFrame(d)\n",
    "        t = pd.DataFrame(e) \n",
    "        \n",
    "        return(round(np.exp(s.mean())[0]-data_36.median()[1]),' ')\n",
    "    elif m['P>|t|'][p] > .05 and m['P>|t|'][p+1] < .05:\n",
    "        for j in range(len(los_new)):\n",
    "            for i in np.arange(34.0,37.0,0.1):\n",
    "                e.append(los_1['sum'].iloc[j] + (los_new['Gestation'].iloc[j])*i + los[x].iloc[4095])\n",
    "                d.append(0)\n",
    "        s = pd.DataFrame(d)\n",
    "        t = pd.DataFrame(e) \n",
    "        \n",
    "        return(' ',round(np.exp(t.mean())[0]))\n",
    "                \n",
    "        \n",
    "        \n",
    "        \n",
    "    else:\n",
    "        return (' ', ' ')\n",
    "    \n",
    "def choice25_34(x):\n",
    "    z, m = model(data_34)\n",
    "    \n",
    "    d = []\n",
    "    e = []\n",
    "    a = refgrid(z)\n",
    "    q ={\"inout\":1, \"NF\":3, \"Med_admin\":5, \"espghan\":7, \"nutri\":9, \"gender\":11, \"rds\":13, \"jaundice\":15, \"sepsis\":17, \"lscs_nvd\":19, \"birth_type\":21,\"ant_std\":23}\n",
    "    p = q[x]\n",
    "    \n",
    "    los = a.copy()\n",
    "    los_new = a.drop(str(x),axis=1)\n",
    "    los_1 = los_new.drop('Gestation',axis=1)\n",
    "    los_1['sum'] = los_new.sum(axis=1)\n",
    "    \n",
    "    \n",
    "    \n",
    "    \n",
    "    if m['P>|t|'][p] < .05 and m['P>|t|'][p+1] < .05:\n",
    "           \n",
    "        #los1 = qs[qs['Gestation']<34]\n",
    "        #median1 = np.median(los1['LOS'])\n",
    "        \n",
    "        for j in range(len(los_new)):\n",
    "            for i in np.arange(25.0,34.0,0.1):\n",
    "                d.append(los_1['sum'].iloc[j] + (los_new['Gestation'].iloc[j])*i + los[x].iloc[0])\n",
    "                e.append(los_1['sum'].iloc[j] + (los_new['Gestation'].iloc[j])*i + los[x].iloc[4095])\n",
    "        s = pd.DataFrame(d)\n",
    "        t = pd.DataFrame(e)\n",
    "        \n",
    "        \n",
    "        \n",
    "        return(round(np.exp(s.mean())[0]-data_34.median()[1]),round(np.exp(t.mean())[0]-data_34.median()[1]))\n",
    "    elif m['P>|t|'][p] < .05 and m['P>|t|'][p+1] > .05:\n",
    "        for j in range(len(los_new)):\n",
    "            for i in np.arange(25.0,34.0,0.1):\n",
    "                d.append(los_1['sum'].iloc[j] + (los_new['Gestation'].iloc[j])*i + los[x].iloc[0])\n",
    "                e.append(0)\n",
    "        s = pd.DataFrame(d)\n",
    "        t = pd.DataFrame(e) \n",
    "        \n",
    "        return(round(np.exp(s.mean())[0]-data_34.median()[1]),' ')\n",
    "    elif m['P>|t|'][p] > .05 and m['P>|t|'][p+1] < .05:\n",
    "        for j in range(len(los_new)):\n",
    "            for i in np.arange(25.0,34.0,0.1):\n",
    "                e.append(los_1['sum'].iloc[j] + (los_new['Gestation'].iloc[j])*i + los[x].iloc[4095])\n",
    "                d.append(0)\n",
    "        s = pd.DataFrame(d)\n",
    "        t = pd.DataFrame(e) \n",
    "        \n",
    "        return(' ',round(np.exp(t.mean())[0]-data_34.median()[1]))\n",
    "                \n",
    "        \n",
    "        \n",
    "        \n",
    "    else:\n",
    "        return (' ', ' ')\n",
    "\n",
    "def choice37_44(x):\n",
    "    z, m = model(data_37)\n",
    "    \n",
    "    d = []\n",
    "    e = []\n",
    "    a = refgrid(z)\n",
    "    q ={\"inout\":1, \"NF\":3, \"Med_admin\":5, \"espghan\":7, \"nutri\":9, \"gender\":11, \"rds\":13, \"jaundice\":15, \"sepsis\":17, \"lscs_nvd\":19, \"birth_type\":21,\"ant_std\":23}\n",
    "    p = q[x]\n",
    "    \n",
    "    los = a\n",
    "    los_new = a.drop(str(x),axis=1)\n",
    "    los_1 = los_new.drop('Gestation',axis=1)\n",
    "    los_1['sum'] = los_new.sum(axis=1)\n",
    "    \n",
    "    \n",
    "    \n",
    "    \n",
    "    if m['P>|t|'][p] < .05 and m['P>|t|'][p+1] < .05:\n",
    "           \n",
    "        #los1 = qs[qs['Gestation']<34]\n",
    "        #median1 = np.median(los1['LOS'])\n",
    "        \n",
    "        for j in range(len(los_new)):\n",
    "            for i in np.arange(37.0,44.0,0.1):\n",
    "                d.append(los_1['sum'].iloc[j] + (los_new['Gestation'].iloc[j])*i + los[x].iloc[0])\n",
    "                e.append(los_1['sum'].iloc[j] + (los_new['Gestation'].iloc[j])*i + los[x].iloc[4095])\n",
    "        s = pd.DataFrame(d)\n",
    "        t = pd.DataFrame(e)\n",
    "        \n",
    "        \n",
    "        return(round(np.exp(s.mean())[0]-data_37.median()[1]),round(np.exp(t.mean())[0]-data_37.median()[1]))\n",
    "    elif m['P>|t|'][p] < .05 and m['P>|t|'][p+1] > .05:\n",
    "        for j in range(len(los_new)):\n",
    "            for i in np.arange(37.0,44.0,0.1):\n",
    "                d.append(los_1['sum'].iloc[j] + (los_new['Gestation'].iloc[j])*i + los[x].iloc[0])\n",
    "                e.append(0)\n",
    "        s = pd.DataFrame(d)\n",
    "        t = pd.DataFrame(e) \n",
    "        \n",
    "        return(round(np.exp(s.mean())[0]-data_37.median()[1]),' ')\n",
    "    elif m['P>|t|'][p] > .05 and m['P>|t|'][p+1] < .05:\n",
    "        for j in range(len(los_new)):\n",
    "            for i in np.arange(37.0,44.0,0.1):\n",
    "                e.append(los_1['sum'].iloc[j] + (los_new['Gestation'].iloc[j])*i + los[x].iloc[4095])\n",
    "                d.append(0)\n",
    "        s = pd.DataFrame(d)\n",
    "        t = pd.DataFrame(e) \n",
    "        \n",
    "        return(' ',round(np.exp(t.mean())[0]-data_37.median()[1]))\n",
    "                \n",
    "        \n",
    "        \n",
    "        \n",
    "    else:\n",
    "        return (' ', ' ')\n",
    "    \n",
    "#Median IQR\n",
    "    \n",
    "def median_IQR(x):\n",
    "    q1 = str(pd.DataFrame(x).quantile(.25)[0])\n",
    "    q2 = str(pd.DataFrame(x).quantile(.75)[0])\n",
    "    q3 = q1 +\" to \" + q2\n",
    "    return q3\n",
    "\n",
    "        \n",
    "headerColor = 'grey'\n",
    "rowEvenColor = 'lightgrey'\n",
    "rowOddColor = 'white'\n",
    "\n",
    "fig = go.Figure(data=[go.Table(\n",
    "  header=dict(\n",
    "    values=['<b>FIELDS</b>','<b>Less than 34</b>','<b>34 to 37</b>','<b>Greater than 37</b>'],\n",
    "    line_color='darkslategray',\n",
    "    fill_color=headerColor,\n",
    "    align=['left','center'],\n",
    "    font=dict(color='white', size=12)\n",
    "  ),\n",
    "  cells=dict(\n",
    "    values=[\n",
    "      ['Count','Median','IQR','Male','Female', 'Out born','In Born', 'LSCS','NVD','Single' ,'Multiple', 'Antenatal Steroids False','Antenatal Steroids True','NeoFax Error','Med Admin Error','ESPHGAN Error','Nutri Admin Error','RDS True','Jaundice True','Sepsis True'],\n",
    "      [data_34.count()[0],data_34.median()[1],median_IQR(data_34['LOS']),choice25_34('gender')[1],choice25_34('gender')[0], choice25_34('inout')[1],choice25_34('inout')[0], choice25_34('lscs_nvd')[0],choice25_34('lscs_nvd')[1], choice25_34('birth_type')[0],choice25_34('birth_type')[1],choice25_34('ant_std')[0],choice25_34('ant_std')[1], choice25_34('NF')[1],choice25_34('Med_admin')[1],choice25_34('espghan')[1],choice25_34('nutri')[1],choice25_34('rds')[1],choice25_34('jaundice')[1],choice25_34('sepsis')[1]],\n",
    "      [data_36.count()[0],data_36.median()[1],median_IQR(data_36['LOS']),choice34_37('gender')[1],choice34_37('gender')[0], choice34_37('inout')[1],choice34_37('inout')[0], choice34_37('lscs_nvd')[0],choice34_37('lscs_nvd')[1], choice34_37('birth_type')[0],choice34_37('birth_type')[1],choice34_37('ant_std')[0],choice34_37('ant_std')[1], choice34_37('NF')[1],choice34_37('Med_admin')[1],choice34_37('espghan')[1],choice34_37('nutri')[1],choice34_37('rds')[1],choice34_37('jaundice')[1],choice34_37('sepsis')[1]],\n",
    "      [data_37.count()[0],data_37.median()[1],median_IQR(data_37['LOS']),choice37_44('gender')[1],choice37_44('gender')[0], choice37_44('inout')[1],choice37_44('inout')[0], choice37_44('lscs_nvd')[0],choice37_44('lscs_nvd')[1], choice37_44('birth_type')[0],choice37_44('birth_type')[1],choice37_44('ant_std')[0],choice37_44('ant_std')[1], choice37_44('NF')[1],choice37_44('Med_admin')[1],choice37_44('espghan')[1],choice37_44('nutri')[1],choice37_44('rds')[1],choice37_44('jaundice')[1],choice37_44('sepsis')[1]],\n",
    "\n",
    "    ],\n",
    "    line_color='darkslategray',\n",
    "    # 2-D list of colors for alternating rows\n",
    "    fill_color = [[rowOddColor,rowEvenColor,rowOddColor, rowEvenColor,rowOddColor]*5],\n",
    "    align = ['left', 'center'],\n",
    "    font = dict(color = 'darkslategray', size = 11)\n",
    "    ))\n",
    "])\n",
    "\n",
    "fig.show()\n",
    "\n"
   ]
  },
  {
   "cell_type": "code",
   "execution_count": null,
   "metadata": {},
   "outputs": [],
   "source": []
  }
 ],
 "metadata": {
  "kernelspec": {
   "display_name": "Python 3",
   "language": "python",
   "name": "python3"
  },
  "language_info": {
   "codemirror_mode": {
    "name": "ipython",
    "version": 3
   },
   "file_extension": ".py",
   "mimetype": "text/x-python",
   "name": "python",
   "nbconvert_exporter": "python",
   "pygments_lexer": "ipython3",
   "version": "3.7.3"
  }
 },
 "nbformat": 4,
 "nbformat_minor": 2
}
